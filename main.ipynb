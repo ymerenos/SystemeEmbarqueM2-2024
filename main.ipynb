{
 "cells": [
  {
   "cell_type": "code",
   "execution_count": 1,
   "metadata": {},
   "outputs": [],
   "source": [
    "import sys\n",
    "import csv\n",
    "import dbfread\n",
    "import shapefile\n",
    "import pandas as pd"
   ]
  },
  {
   "cell_type": "code",
   "execution_count": 2,
   "metadata": {},
   "outputs": [],
   "source": [
    "# Lit le fichier .dbf et stocke les données dans un DataFrame\n",
    "def read_dbf(path_dbf):\n",
    "    table = dbfread.DBF(path_dbf, encoding='latin-1') # latin-1 pour fix si jamais...\n",
    "    df = pd.DataFrame(iter(table))\n",
    "    return df"
   ]
  },
  {
   "cell_type": "code",
   "execution_count": 11,
   "metadata": {},
   "outputs": [
    {
     "data": {
      "text/plain": [
       "13546"
      ]
     },
     "execution_count": 11,
     "metadata": {},
     "output_type": "execute_result"
    }
   ],
   "source": [
    "roads = read_dbf(\"Sarthe/roads.dbf\")\n",
    "roads.__len__()"
   ]
  },
  {
   "cell_type": "code",
   "execution_count": 4,
   "metadata": {},
   "outputs": [
    {
     "data": {
      "text/plain": [
       "30607"
      ]
     },
     "execution_count": 4,
     "metadata": {},
     "output_type": "execute_result"
    }
   ],
   "source": [
    "points = read_dbf(\"departement-72/points.dbf\")\n",
    "points.__len__()"
   ]
  },
  {
   "cell_type": "code",
   "execution_count": 12,
   "metadata": {},
   "outputs": [
    {
     "data": {
      "text/plain": [
       "array(['primary', 'primary_link', 'secondary', 'pedestrian', 'trunk_link',\n",
       "       'tertiary', 'residential', 'service', 'steps', 'path', 'cycleway',\n",
       "       'track', 'trunk', 'unclassified', 'footway', 'living_street',\n",
       "       'secondary_link', 'tertiary_link', 'busway', 'platform',\n",
       "       'elevator', 'corridor', 'construction', 'proposed'], dtype=object)"
      ]
     },
     "execution_count": 12,
     "metadata": {},
     "output_type": "execute_result"
    }
   ],
   "source": [
    "# Affiche les différents types de routes\n",
    "roads[\"type\"].unique()"
   ]
  },
  {
   "cell_type": "code",
   "execution_count": 13,
   "metadata": {},
   "outputs": [
    {
     "data": {
      "text/plain": [
       "1524"
      ]
     },
     "execution_count": 13,
     "metadata": {},
     "output_type": "execute_result"
    }
   ],
   "source": [
    "# Conserve uniquement les routes de type \"motorway, motorway_link, primary, secondary, tertiary, primary_link, secondary_link, tertiary_link, road\"\n",
    "roads = roads[roads[\"type\"].isin([\"motorway\", \"motorway_link\", \"primary\", \"secondary\", \"tertiary\", \"primary_link\", \"secondary_link\", \"tertiary_link\", \"road\"])]\n",
    "roads.__len__()"
   ]
  },
  {
   "cell_type": "code",
   "execution_count": 14,
   "metadata": {},
   "outputs": [],
   "source": [
    "# Filtrer le fichier .shp pour ne garder que les routes de type spécifié\n",
    "def filter_shp(path_shp, path_dbf, path_out, type_route):\n",
    "    # Lit le fichier .dbf et stocke les données dans un DataFrame\n",
    "    df = read_dbf(path_dbf)\n",
    "    # Lit le fichier .shp\n",
    "    sf = shapefile.Reader(path_shp)\n",
    "    # Crée un nouveau fichier .shp\n",
    "    w = shapefile.Writer(path_out, shapefile.POLYLINE)\n",
    "    # Copie les attributs du fichier .shp\n",
    "    w.fields = list(sf.fields)\n",
    "    # Pour chaque route\n",
    "    for shape in sf.iterShapeRecords():\n",
    "        # Si la route est du type spécifié\n",
    "        if shape.record[\"type\"] == type_route:\n",
    "            # Copie la route dans le nouveau fichier .shp\n",
    "            w.record(*shape.record)\n",
    "            w.shape(shape.shape)\n",
    "    w.close()"
   ]
  },
  {
   "cell_type": "code",
   "execution_count": 23,
   "metadata": {},
   "outputs": [],
   "source": [
    "# Filtre le fichier roads.shp pour chaque type de route\n",
    "# Enregistre le résultat dans le fichier routes/roads_<type>.shp\n",
    "for type_route in roads[\"type\"].unique():\n",
    "    filter_shp(\"Sarthe/roads.shp\", \"Sarthe/roads.dbf\", \"route_Sarthe/roads_{}.shp\".format(type_route), type_route)"
   ]
  },
  {
   "cell_type": "code",
   "execution_count": 33,
   "metadata": {},
   "outputs": [],
   "source": [
    "# Ouvre un fichier .shp et en extrait les coordonnées des extrémités de chaque route\n",
    "def extract_extremities(path_shp, path_dbf):\n",
    "    # Crée un dataFrame pandas vide pour stocker les coordonnées\n",
    "    df = pd.DataFrame(columns=[\"x1\", \"y1\", \"x2\", \"y2\"])\n",
    "    # Lit le fichier .dbf et stocke les données dans un DataFrame\n",
    "    df_dbf = read_dbf(path_dbf)\n",
    "    # Lit le fichier .shp\n",
    "    sf = shapefile.Reader(path_shp)\n",
    "    # Pour chaque route\n",
    "    for shape in sf.iterShapeRecords():\n",
    "        # Récupère les coordonnées des extrémités de la route\n",
    "        x1, y1, x2, y2 = shape.shape.bbox\n",
    "        # Ajoute les coordonnées dans le DataFrame\n",
    "        df = df.append({\"x1\": x1, \"y1\": y1, \"x2\": x2, \"y2\": y2}, ignore_index=True)\n",
    "    # Retourne le DataFrame\n",
    "    return df"
   ]
  },
  {
   "cell_type": "code",
   "execution_count": 34,
   "metadata": {},
   "outputs": [
    {
     "data": {
      "text/html": [
       "<div>\n",
       "<style scoped>\n",
       "    .dataframe tbody tr th:only-of-type {\n",
       "        vertical-align: middle;\n",
       "    }\n",
       "\n",
       "    .dataframe tbody tr th {\n",
       "        vertical-align: top;\n",
       "    }\n",
       "\n",
       "    .dataframe thead th {\n",
       "        text-align: right;\n",
       "    }\n",
       "</style>\n",
       "<table border=\"1\" class=\"dataframe\">\n",
       "  <thead>\n",
       "    <tr style=\"text-align: right;\">\n",
       "      <th></th>\n",
       "      <th>x1</th>\n",
       "      <th>y1</th>\n",
       "      <th>x2</th>\n",
       "      <th>y2</th>\n",
       "    </tr>\n",
       "  </thead>\n",
       "  <tbody>\n",
       "    <tr>\n",
       "      <th>0</th>\n",
       "      <td>0.173010</td>\n",
       "      <td>48.052220</td>\n",
       "      <td>0.195408</td>\n",
       "      <td>48.056787</td>\n",
       "    </tr>\n",
       "    <tr>\n",
       "      <th>1</th>\n",
       "      <td>0.586732</td>\n",
       "      <td>48.117485</td>\n",
       "      <td>0.688117</td>\n",
       "      <td>48.148540</td>\n",
       "    </tr>\n",
       "    <tr>\n",
       "      <th>2</th>\n",
       "      <td>0.756372</td>\n",
       "      <td>48.175110</td>\n",
       "      <td>0.803703</td>\n",
       "      <td>48.186148</td>\n",
       "    </tr>\n",
       "    <tr>\n",
       "      <th>3</th>\n",
       "      <td>0.299093</td>\n",
       "      <td>48.009573</td>\n",
       "      <td>0.300108</td>\n",
       "      <td>48.010391</td>\n",
       "    </tr>\n",
       "    <tr>\n",
       "      <th>4</th>\n",
       "      <td>0.581726</td>\n",
       "      <td>48.116068</td>\n",
       "      <td>0.586563</td>\n",
       "      <td>48.117637</td>\n",
       "    </tr>\n",
       "  </tbody>\n",
       "</table>\n",
       "</div>"
      ],
      "text/plain": [
       "         x1         y1        x2         y2\n",
       "0  0.173010  48.052220  0.195408  48.056787\n",
       "1  0.586732  48.117485  0.688117  48.148540\n",
       "2  0.756372  48.175110  0.803703  48.186148\n",
       "3  0.299093  48.009573  0.300108  48.010391\n",
       "4  0.581726  48.116068  0.586563  48.117637"
      ]
     },
     "execution_count": 34,
     "metadata": {},
     "output_type": "execute_result"
    }
   ],
   "source": [
    "df_extremities = extract_extremities(\"routes/roads_motorway.shp\", \"routes/roads_motorway.dbf\")\n",
    "df_extremities.head()"
   ]
  },
  {
   "cell_type": "code",
   "execution_count": 41,
   "metadata": {},
   "outputs": [],
   "source": [
    "# Crée un fichier chargeable dans NetLogo (format csv)\n",
    "# Crée des noeuds à partir des routes (1 noeud tous les 100m)\n",
    "def create_nodes(path_shp, path_dbf, path_out):\n",
    "    # Lit le fichier .dbf et stocke les données dans un DataFrame\n",
    "    df_dbf = read_dbf(path_dbf)\n",
    "    # Lit le fichier .shp\n",
    "    sf = shapefile.Reader(path_shp)\n",
    "    # Crée un nouveau fichier .csv\n",
    "    with open(path_out, \"w\") as file:\n",
    "        # Ecrit les entêtes\n",
    "        file.write(\"id,x,y\\n\")\n",
    "        # Pour chaque route\n",
    "        for shape in sf.iterShapeRecords():\n",
    "            # Récupère les coordonnées des extrémités de la route\n",
    "            x1, y1, x2, y2 = shape.shape.bbox\n",
    "            # Calcule la distance entre les deux extrémités\n",
    "            distance = ((x2 - x1)**2 + (y2 - y1)**2)**0.5\n",
    "            # Calcule le nombre de noeuds à créer\n",
    "            nb_nodes = int(distance / 100) + 1\n",
    "            # Calcule le pas entre chaque noeud\n",
    "            step_x = (x2 - x1) / nb_nodes\n",
    "            step_y = (y2 - y1) / nb_nodes\n",
    "            # Pour chaque noeud\n",
    "            for i in range(nb_nodes):\n",
    "                # Calcule les coordonnées du noeud\n",
    "                x = x1 + i * step_x\n",
    "                y = y1 + i * step_y\n",
    "                # Ecrit le noeud dans le fichier .csv\n",
    "                file.write(\"{},{}\\n\".format(x, y))"
   ]
  },
  {
   "cell_type": "code",
   "execution_count": 42,
   "metadata": {},
   "outputs": [],
   "source": [
    "create_nodes(\"routes/roads_motorway.shp\", \"routes/roads_motorway.dbf\", \"routes/nodes_motorway.csv\")"
   ]
  },
  {
   "cell_type": "code",
   "execution_count": 6,
   "metadata": {},
   "outputs": [
    {
     "data": {
      "text/plain": [
       "{'shapeType': 3,\n",
       " 'points': [(0.1730102, 48.0522196),\n",
       "  (0.1745596, 48.0525898),\n",
       "  (0.1770621, 48.0531295),\n",
       "  (0.1819828, 48.0541136),\n",
       "  (0.183779, 48.0544692),\n",
       "  (0.1854823, 48.0548091),\n",
       "  (0.1913287, 48.0559769),\n",
       "  (0.1954081, 48.0567868)],\n",
       " 'parts': [0],\n",
       " '_errors': {},\n",
       " '_Shape__oid': 0,\n",
       " 'bbox': [0.1730102, 48.0522196, 0.1954081, 48.0567868]}"
      ]
     },
     "execution_count": 6,
     "metadata": {},
     "output_type": "execute_result"
    }
   ],
   "source": [
    "# Stocke dans un DataFrame les informations shp de la première route de type \"motorway\"\n",
    "sf = shapefile.Reader(\"routes/roads_motorway.shp\")\n",
    "shape = sf.shapeRecords()[0]\n",
    "# Affiche les informations shp de la première route de type \"motorway\"\n",
    "shape.shape.__dict__"
   ]
  },
  {
   "cell_type": "code",
   "execution_count": 7,
   "metadata": {},
   "outputs": [],
   "source": [
    "# Crée un fichier .shp contenant les points de chaque route d'un type spécifié\n",
    "def create_points(path_shp, path_out):\n",
    "    # Lit le fichier .shp\n",
    "    sf = shapefile.Reader(path_shp)\n",
    "    # Crée un nouveau fichier .shp\n",
    "    w = shapefile.Writer(path_out, shapefile.POINT)\n",
    "    # Copie les attributs du fichier .shp\n",
    "    w.fields = list(sf.fields)\n",
    "    # Pour chaque route\n",
    "    for shape in sf.iterShapeRecords():\n",
    "        # Pour chaque point de la route\n",
    "        for point in shape.shape.points:\n",
    "            # Copie le point dans le nouveau fichier .shp\n",
    "            w.point(*point)\n",
    "            w.record(*shape.record)\n",
    "    w.close()"
   ]
  },
  {
   "cell_type": "code",
   "execution_count": 8,
   "metadata": {},
   "outputs": [],
   "source": [
    "create_points(\"routes/roads_motorway.shp\", \"routes/points_motorway.shp\")"
   ]
  },
  {
   "cell_type": "code",
   "execution_count": 9,
   "metadata": {},
   "outputs": [
    {
     "data": {
      "text/plain": [
       "3195"
      ]
     },
     "execution_count": 9,
     "metadata": {},
     "output_type": "execute_result"
    }
   ],
   "source": [
    "# Compte le nombre de points dans un fichier .shp\n",
    "def count_points(path_shp):\n",
    "    # Lit le fichier .shp\n",
    "    sf = shapefile.Reader(path_shp)\n",
    "    # Compte le nombre de points\n",
    "    nb_points = 0\n",
    "    for shape in sf.iterShapeRecords():\n",
    "        nb_points += len(shape.shape.points)\n",
    "    # Retourne le nombre de points\n",
    "    return nb_points\n",
    "\n",
    "count_points(\"routes/points_motorway.shp\")"
   ]
  },
  {
   "cell_type": "code",
   "execution_count": 10,
   "metadata": {},
   "outputs": [
    {
     "data": {
      "text/plain": [
       "13609"
      ]
     },
     "execution_count": 10,
     "metadata": {},
     "output_type": "execute_result"
    }
   ],
   "source": [
    "create_points(\"routes/roads_primary.shp\", \"routes/points_primary.shp\")\n",
    "count_points(\"routes/points_primary.shp\")"
   ]
  },
  {
   "cell_type": "code",
   "execution_count": null,
   "metadata": {},
   "outputs": [],
   "source": []
  }
 ],
 "metadata": {
  "kernelspec": {
   "display_name": "smase",
   "language": "python",
   "name": "python3"
  },
  "language_info": {
   "codemirror_mode": {
    "name": "ipython",
    "version": 3
   },
   "file_extension": ".py",
   "mimetype": "text/x-python",
   "name": "python",
   "nbconvert_exporter": "python",
   "pygments_lexer": "ipython3",
   "version": "3.7.16 (default, Jan 17 2023, 22:20:44) \n[GCC 11.2.0]"
  },
  "orig_nbformat": 4,
  "vscode": {
   "interpreter": {
    "hash": "b80de27c94890b2f433c105fe9871cd1cb449fa5a320ab46086a7d25c5cd336e"
   }
  }
 },
 "nbformat": 4,
 "nbformat_minor": 2
}
